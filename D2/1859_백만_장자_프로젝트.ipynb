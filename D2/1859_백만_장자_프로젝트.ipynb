{
  "nbformat": 4,
  "nbformat_minor": 0,
  "metadata": {
    "colab": {
      "name": "1859. 백만 장자 프로젝트.ipynb",
      "provenance": [],
      "collapsed_sections": [],
      "authorship_tag": "ABX9TyNSpjj8MOUb/4Gn4VwqUkR+",
      "include_colab_link": true
    },
    "kernelspec": {
      "name": "python3",
      "display_name": "Python 3"
    },
    "language_info": {
      "name": "python"
    }
  },
  "cells": [
    {
      "cell_type": "markdown",
      "metadata": {
        "id": "view-in-github",
        "colab_type": "text"
      },
      "source": [
        "<a href=\"https://colab.research.google.com/github/1cg2cg3cg/SW-Expert-Academy/blob/main/D2/1859_%EB%B0%B1%EB%A7%8C_%EC%9E%A5%EC%9E%90_%ED%94%84%EB%A1%9C%EC%A0%9D%ED%8A%B8.ipynb\" target=\"_parent\"><img src=\"https://colab.research.google.com/assets/colab-badge.svg\" alt=\"Open In Colab\"/></a>"
      ]
    },
    {
      "cell_type": "code",
      "metadata": {
        "id": "-Ht5xsgAkPSX"
      },
      "source": [
        "T = int(input())\n",
        "# 여러개의 테스트 케이스가 주어지므로, 각각을 처리합니다.\n",
        "for test_case in range(1, T + 1):\n",
        "    length = int(input())\n",
        "    prices = list(map(int, input().split()))\n",
        "    \n",
        "    answer, max_val = 0, prices[-1]\n",
        "\n",
        "    for i in range(length-1,-1,-1) :\n",
        "        \n",
        "        if prices[i] > max_val :\n",
        "            max_val = prices[i]\n",
        "        \n",
        "        else :\n",
        "            answer += max_val - prices[i]\n",
        "\n",
        "    print(f'#{test_case} {answer}')"
      ],
      "execution_count": null,
      "outputs": []
    },
    {
      "cell_type": "markdown",
      "metadata": {
        "id": "rfeqv1hAkUim"
      },
      "source": [
        "| 입력 || 출력 |\n",
        "|------||------|\n",
        "|3|||\n",
        "|3|case 1|\n",
        "|10 7 6||#1 0|\n",
        "|3|case 2|\n",
        "|3 5 9||#2 10|\n",
        "|5|case 3|\n",
        "|1 1 3 1 2||#3 5|"
      ]
    }
  ]
}