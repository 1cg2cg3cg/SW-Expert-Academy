{
  "nbformat": 4,
  "nbformat_minor": 0,
  "metadata": {
    "colab": {
      "name": "1204. [S/W 문제해결 기본] 1일차 - 최빈수 구하기.ipynb",
      "provenance": [],
      "collapsed_sections": [],
      "authorship_tag": "ABX9TyPKH5q6ctPqQfai0w5o04Xg",
      "include_colab_link": true
    },
    "kernelspec": {
      "name": "python3",
      "display_name": "Python 3"
    },
    "language_info": {
      "name": "python"
    }
  },
  "cells": [
    {
      "cell_type": "markdown",
      "metadata": {
        "id": "view-in-github",
        "colab_type": "text"
      },
      "source": [
        "<a href=\"https://colab.research.google.com/github/1cg2cg3cg/SW-Expert-Academy/blob/main/D2/1204_%5BSW_%EB%AC%B8%EC%A0%9C%ED%95%B4%EA%B2%B0_%EA%B8%B0%EB%B3%B8%5D_1%EC%9D%BC%EC%B0%A8_%EC%B5%9C%EB%B9%88%EC%88%98_%EA%B5%AC%ED%95%98%EA%B8%B0.ipynb\" target=\"_parent\"><img src=\"https://colab.research.google.com/assets/colab-badge.svg\" alt=\"Open In Colab\"/></a>"
      ]
    },
    {
      "cell_type": "code",
      "metadata": {
        "id": "jI1QZLULBMAx"
      },
      "source": [
        "import collections\n",
        "\n",
        "T = int(input())\n",
        "\n",
        "for test_case in range(1, T+1):\n",
        "    t = int(input())    # n 번째 입력\n",
        "    scores = list(map(int, input().split()))    # 학생들의 점수\n",
        "    \n",
        "    C = collections.Counter(scores)\n",
        "    answer = C.most_common(1)[0][0] # 가장 많은 점수\n",
        "\n",
        "    for c in C :\n",
        "        if C[c] == C.most_common(1)[0][1] : # 가장 많은 점수가 여러 개인 경우\n",
        "            if c > answer : # 가장 큰 값으로 변경\n",
        "                answer = c\n",
        "\n",
        "    print(f'#{test_case} {answer}')"
      ],
      "execution_count": null,
      "outputs": []
    },
    {
      "cell_type": "markdown",
      "metadata": {
        "id": "JLLIgul8MNrH"
      },
      "source": [
        "|입력||출력|\n",
        "|----||----:|\n",
        "|2|||\n",
        "|1||case 1|\n",
        "|1 2 3 3 3 7 7 7 20 20 20 3 3 7||#1 3|\n",
        "|2||case 2|\n",
        "|10 8 7 2 2 4 8 8 8 9 5 5 3|||#2 8|\n",
        "||\n",
        "|sample case|\n",
        "|#1| |71|\n",
        "|#2| |76|\n",
        "|#3| |79|\n",
        "|#4| |80|\n",
        "|#5| |52|\n",
        "|#6| |66|\n",
        "|#7| |35|\n",
        "|#8| |97|\n",
        "|#9| |92|\n",
        "|#10| |72|"
      ]
    }
  ]
}