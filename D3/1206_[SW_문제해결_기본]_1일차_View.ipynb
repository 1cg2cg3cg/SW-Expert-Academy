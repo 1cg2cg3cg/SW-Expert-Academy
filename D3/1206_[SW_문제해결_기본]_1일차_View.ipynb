{
  "nbformat": 4,
  "nbformat_minor": 0,
  "metadata": {
    "colab": {
      "name": "1206. [S/W 문제해결 기본] 1일차 - View.ipynb",
      "provenance": [],
      "collapsed_sections": [],
      "authorship_tag": "ABX9TyMxbEG2gOH2V+90Orc+QPnp",
      "include_colab_link": true
    },
    "kernelspec": {
      "name": "python3",
      "display_name": "Python 3"
    },
    "language_info": {
      "name": "python"
    }
  },
  "cells": [
    {
      "cell_type": "markdown",
      "metadata": {
        "id": "view-in-github",
        "colab_type": "text"
      },
      "source": [
        "<a href=\"https://colab.research.google.com/github/1cg2cg3cg/SW-Expert-Academy/blob/main/D3/1206_%5BSW_%EB%AC%B8%EC%A0%9C%ED%95%B4%EA%B2%B0_%EA%B8%B0%EB%B3%B8%5D_1%EC%9D%BC%EC%B0%A8_View.ipynb\" target=\"_parent\"><img src=\"https://colab.research.google.com/assets/colab-badge.svg\" alt=\"Open In Colab\"/></a>"
      ]
    },
    {
      "cell_type": "code",
      "metadata": {
        "id": "75WIASEP_lj1"
      },
      "source": [
        "# 테스트 케이스의 개수가 10개로 주어진 것을 확인하지 못해 2회 실패\n",
        "for test_case in range(1, 11) :\n",
        "    length = int(input())\n",
        "    heights = list(map(int, input().split()))\n",
        "    heights = [0]*2 + heights + [0]*2   # 주어진 높이의 좌, 우측에 높이 0을 2개 씩 추가\n",
        "\n",
        "    answer = 0\n",
        "\n",
        "    for i in range(2, len(heights)-2) :\n",
        "        if heights[i] - max(heights[i-2], heights[i-1], heights[i+1], heights[i+2]) > 0 :   # 조망권 조건을 벗어나는 경우 예외처리\n",
        "            answer += heights[i] - max(heights[i-2], heights[i-1], heights[i+1], heights[i+2])\n",
        "\n",
        "    print(f'#{test_case} {answer}')"
      ],
      "execution_count": null,
      "outputs": []
    },
    {
      "cell_type": "markdown",
      "metadata": {
        "id": "lw2J8N0AAKP_"
      },
      "source": [
        "| 입력 || 출력 |\n",
        "|------||------:|\n",
        "|6|case 1|\n",
        "|10 15 13 10 15 6||#1 4|\n",
        "|3|case 2|\n",
        "|1 5 2||#2 3|\n",
        "\n",
        "sample case의 결과\n",
        "\n",
        "|순서||답|\n",
        "|----||----:|\n",
        "|#1||691|\n",
        "|#2||9092|\n",
        "|#3||8998|\n",
        "|#4||9597|\n",
        "|#5||8757|\n",
        "|#6||10008|\n",
        "|#7||10194|\n",
        "|#8||10188|\n",
        "|#9||9940|\n",
        "|#10||8684|"
      ]
    }
  ]
}